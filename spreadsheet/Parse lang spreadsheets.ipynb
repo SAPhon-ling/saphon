{
 "cells": [
  {
   "cell_type": "markdown",
   "id": "7dc8af40-3a13-41e1-9404-a8ce57e26bbe",
   "metadata": {
    "tags": []
   },
   "source": [
    "## Parse SAPhon inventory spreadsheets to look for errors\n",
    "\n",
    "Use this notebook to process a `.tsv` file downloaded from the SAPhon [Tupian Nasal Typology Input](https://docs.google.com/spreadsheets/d/1dvXFvLIV4y84CglgjAl-ZVb09IuGazs1SzFO_UJpmnI/edit#gid=1164878023) spreadsheet. Warning messages are emitted for spreadsheet values that do not validate. Make corrections in the spreadsheet, then download a new `.tsv` file and try again.\n",
    "\n",
    "In the terminology of this notebook, each language sheet consists of multiple documents, which appear as consecutive rows in the spreadsheet. A row labelled 'Doctype' introduces a new document. Each language spreadsheet must have exactly one `synthesis` document and may have one or more `ref` documents.\n",
    "\n",
    "To run the cells in this notebook, click on the cell to execute, then on the `Run` button or press `Ctrl`+`Enter` on the keyboard. Execute cells in order from top to bottom."
   ]
  },
  {
   "cell_type": "markdown",
   "id": "50ec11e8-9afd-40af-8e97-2b3a5dbfcaa9",
   "metadata": {},
   "source": [
    "## Getting started\n",
    "\n",
    "When you are ready to validate data for a language:\n",
    "\n",
    "1. Visit the [input spreadsheet](https://docs.google.com/spreadsheets/d/1dvXFvLIV4y84CglgjAl-ZVb09IuGazs1SzFO_UJpmnI/edit#gid=1164878023).\n",
    "1. Select the tab for the language you want to check.\n",
    "1. Click `File` > `Download` > `Tab Separated Values (.tsv)`.\n",
    "1. (Optional) Rename the downloaded file to a simple form that matches the language name. It is fine to omit diacritics from the filename, as the name won't be reused outside of this notebook.\n",
    "1. Change the value of the `infile` variable in the next cell to match the filename of the `.tsv` file."
   ]
  },
  {
   "cell_type": "code",
   "execution_count": 7,
   "id": "d924e360",
   "metadata": {},
   "outputs": [],
   "source": [
    "import spreadsheet\n",
    "\n",
    "infile = 'tapiete.tsv'"
   ]
  },
  {
   "cell_type": "markdown",
   "id": "c3cf3fb1-e18c-4b69-ad46-bb4db3d55f25",
   "metadata": {},
   "source": [
    "## Read the language file\n",
    "\n",
    "The next cell reads the file into a dictionary named `lang`. The dictionary contains the content of the `synthesis` and `ref` documents."
   ]
  },
  {
   "cell_type": "code",
   "execution_count": 8,
   "id": "8953d9e2",
   "metadata": {
    "tags": []
   },
   "outputs": [
    {
     "name": "stderr",
     "output_type": "stream",
     "text": [
      "No match for field 'optioanlity'. Parse possibly incorrect.\n"
     ]
    }
   ],
   "source": [
    "lang = spreadsheet.read_lang(infile)"
   ]
  },
  {
   "cell_type": "markdown",
   "id": "5bf99477-26d9-4e07-8eab-65f6f31d4722",
   "metadata": {},
   "source": [
    "Check the `Natural Classes`/`Segments` fields. The return value `natclasses` is a dictionary that maps each `synthesis`/`ref`document to its structured natural class data that can be referenced in the processes of that document. The `flatnatclasses` variable is a dictionary that contains a simple list of all the symbols used for natural class data for each document."
   ]
  },
  {
   "cell_type": "code",
   "execution_count": 9,
   "id": "5f574da6-dd79-4b0c-a979-57271a7674e8",
   "metadata": {},
   "outputs": [
    {
     "name": "stderr",
     "output_type": "stream",
     "text": [
      "Natural Class symbol \"ND\" not recognized.\n",
      "\n",
      "Character ŋg (b'\\xc5\\x8bg') is not in ipa-table.txt.\n",
      "\n",
      "Character ŋg (b'\\xc5\\x8bg') is not in ipa-table.txt.\n",
      "\n"
     ]
    }
   ],
   "source": [
    "natclasses, flatnatclasses = spreadsheet.check_natclasses(lang)"
   ]
  },
  {
   "cell_type": "markdown",
   "id": "f282a18a-0ccb-425c-a9b5-2ff8933bac90",
   "metadata": {},
   "source": [
    "Check the `allophones` field for errors. The target phone for each allophone must match one of the natural class symbols."
   ]
  },
  {
   "cell_type": "code",
   "execution_count": 11,
   "id": "78da572b",
   "metadata": {
    "tags": []
   },
   "outputs": [
    {
     "name": "stderr",
     "output_type": "stream",
     "text": [
      "Allophone 'ɲ' (b'\\xc9\\xb2') not in Natural Classes/Segments 'T, p, t, tʃ, k, kʷ, ʔ, Z, dʒ, S, s, ʃ, h, N, m, n, ŋ, R, ɾ, w, V, i, e, ɨ, a, u, o, Ṽ, ĩ, ẽ, ɨ̃, ã, ũ, õ' for synthesis\n",
      "\n",
      "Allophone 'm mb' (b'm mb') not in Natural Classes/Segments 'T, p, t, tʃ, k, kʷ, ʔ, Z, dʒ, S, s, ʃ, h, N, m, n, ŋ, R, ɾ, w, V, i, e, ɨ, a, u, o, Ṽ, ĩ, ẽ, ɨ̃, ã, ũ, õ' for synthesis\n",
      "\n",
      "Expected 2-ple or 4-ple for allophones. Got 3-ple '['m mb', '_V', 'LO:ND']' for synthesis\n",
      "\n",
      "Allophone 'ŋɡ' (b'\\xc5\\x8b\\xc9\\xa1') not in Natural Classes/Segments 'T, p, t, tʃ, k, kʷ, ʔ, Z, dʒ, S, s, ʃ, h, mb, nd, ŋg, R, ɾ, w, V, i, e, ɨ, a, u, o, Ṽ, ĩ, ẽ, ɨ̃, ã, ũ, õ' for González, Hebe Alicia. 2005. A grammar of Tapiete (Tupi-Guarani). University of Pittsburgh. González, Hebe Alicia. 2008. Una aproximación a la fonología del tapiete. LIAMES (8). pp. 7-43.\n",
      "\n",
      "proc_name 'LDNH:R' does not match available names 'LO:ND, LDNH:L, LN:ɾ, LN:NT, MPP, fronting, LN, MPP, palatalization, spirantization' for González, Hebe Alicia. 2005. A grammar of Tapiete (Tupi-Guarani). University of Pittsburgh. González, Hebe Alicia. 2008. Una aproximación a la fonología del tapiete. LIAMES (8). pp. 7-43.\n",
      "\n",
      "proc_name 'LDNH:R' does not match available names 'LO:ND, LDNH:L, LN:ɾ, LN:NT, MPP, fronting, LN, MPP, palatalization, spirantization' for González, Hebe Alicia. 2005. A grammar of Tapiete (Tupi-Guarani). University of Pittsburgh. González, Hebe Alicia. 2008. Una aproximación a la fonología del tapiete. LIAMES (8). pp. 7-43.\n",
      "\n",
      "proc_name 'LDNH:R' does not match available names 'LO:ND, LDNH:L, LN:ɾ, LN:NT, MPP, fronting, LN, MPP, palatalization, spirantization' for González, Hebe Alicia. 2005. A grammar of Tapiete (Tupi-Guarani). University of Pittsburgh. González, Hebe Alicia. 2008. Una aproximación a la fonología del tapiete. LIAMES (8). pp. 7-43.\n",
      "\n",
      "proc_name 'LDNH:R' does not match available names 'LO:ND, LDNH:L, LN:ɾ, LN:NT, MPP, fronting, LN, MPP, palatalization, spirantization' for González, Hebe Alicia. 2005. A grammar of Tapiete (Tupi-Guarani). University of Pittsburgh. González, Hebe Alicia. 2008. Una aproximación a la fonología del tapiete. LIAMES (8). pp. 7-43.\n",
      "\n",
      "proc_name 'LDNH:R' does not match available names 'LO:ND, LDNH:L, LN:ɾ, LN:NT, MPP, fronting, LN, MPP, palatalization, spirantization' for González, Hebe Alicia. 2005. A grammar of Tapiete (Tupi-Guarani). University of Pittsburgh. González, Hebe Alicia. 2008. Una aproximación a la fonología del tapiete. LIAMES (8). pp. 7-43.\n",
      "\n",
      "proc_name 'LDNH:R' does not match available names 'LO:ND, LDNH:L, LN:ɾ, LN:NT, MPP, fronting, LN, MPP, palatalization, spirantization' for González, Hebe Alicia. 2005. A grammar of Tapiete (Tupi-Guarani). University of Pittsburgh. González, Hebe Alicia. 2008. Una aproximación a la fonología del tapiete. LIAMES (8). pp. 7-43.\n",
      "\n",
      "proc_name 'LDNH:R' does not match available names 'LO:ND, LDNH:L, LN:ɾ, LN:NT, MPP, fronting, LN, MPP, palatalization, spirantization' for González, Hebe Alicia. 2005. A grammar of Tapiete (Tupi-Guarani). University of Pittsburgh. González, Hebe Alicia. 2008. Una aproximación a la fonología del tapiete. LIAMES (8). pp. 7-43.\n",
      "\n",
      "proc_name 'LDNH:R' does not match available names 'LO:ND, LDNH:L, LN:ɾ, LN:NT, MPP, fronting, LN, MPP, palatalization, spirantization' for González, Hebe Alicia. 2005. A grammar of Tapiete (Tupi-Guarani). University of Pittsburgh. González, Hebe Alicia. 2008. Una aproximación a la fonología del tapiete. LIAMES (8). pp. 7-43.\n",
      "\n",
      "proc_name 'LDNH:R' does not match available names 'LO:ND, LDNH:L, LN:ɾ, LN:NT, MPP, fronting, LN, MPP, palatalization, spirantization' for González, Hebe Alicia. 2005. A grammar of Tapiete (Tupi-Guarani). University of Pittsburgh. González, Hebe Alicia. 2008. Una aproximación a la fonología del tapiete. LIAMES (8). pp. 7-43.\n",
      "\n",
      "proc_name 'LDNH:R' does not match available names 'LO:ND, LDNH:L, LN:ɾ, LN:NT, MPP, fronting, LN, MPP, palatalization, spirantization' for González, Hebe Alicia. 2005. A grammar of Tapiete (Tupi-Guarani). University of Pittsburgh. González, Hebe Alicia. 2008. Una aproximación a la fonología del tapiete. LIAMES (8). pp. 7-43.\n",
      "\n",
      "proc_name 'LDNH:R' does not match available names 'LO:ND, LDNH:L, LN:ɾ, LN:NT, MPP, fronting, LN, MPP, palatalization, spirantization' for González, Hebe Alicia. 2005. A grammar of Tapiete (Tupi-Guarani). University of Pittsburgh. González, Hebe Alicia. 2008. Una aproximación a la fonología del tapiete. LIAMES (8). pp. 7-43.\n",
      "\n",
      "proc_name 'LDNH:R' does not match available names 'LO:ND, LDNH:L, LN:ɾ, LN:NT, MPP, fronting, LN, MPP, palatalization, spirantization' for González, Hebe Alicia. 2005. A grammar of Tapiete (Tupi-Guarani). University of Pittsburgh. González, Hebe Alicia. 2008. Una aproximación a la fonología del tapiete. LIAMES (8). pp. 7-43.\n",
      "\n",
      "proc_name 'LO' does not match available names 'LO:ND, LDNH:L, LN:ɾ, LN:NT, MPP, fronting, LN, MPP, palatalization, spirantization' for González, Hebe Alicia. 2005. A grammar of Tapiete (Tupi-Guarani). University of Pittsburgh. González, Hebe Alicia. 2008. Una aproximación a la fonología del tapiete. LIAMES (8). pp. 7-43.\n",
      "\n",
      "proc_name 'LO' does not match available names 'LO:ND, LDNH:L, LN:ɾ, LN:NT, MPP, fronting, LN, MPP, palatalization, spirantization' for González, Hebe Alicia. 2005. A grammar of Tapiete (Tupi-Guarani). University of Pittsburgh. González, Hebe Alicia. 2008. Una aproximación a la fonología del tapiete. LIAMES (8). pp. 7-43.\n",
      "\n",
      "proc_name 'LO' does not match available names 'LO:ND, LDNH:L, LN:ɾ, LN:NT, MPP, fronting, LN, MPP, palatalization, spirantization' for González, Hebe Alicia. 2005. A grammar of Tapiete (Tupi-Guarani). University of Pittsburgh. González, Hebe Alicia. 2008. Una aproximación a la fonología del tapiete. LIAMES (8). pp. 7-43.\n",
      "\n",
      "proc_name 'LO' does not match available names 'LO:ND, LDNH:L, LN:ɾ, LN:NT, MPP, fronting, LN, MPP, palatalization, spirantization' for González, Hebe Alicia. 2005. A grammar of Tapiete (Tupi-Guarani). University of Pittsburgh. González, Hebe Alicia. 2008. Una aproximación a la fonología del tapiete. LIAMES (8). pp. 7-43.\n",
      "\n",
      "proc_name 'LO' does not match available names 'LO:ND, LDNH:L, LN:ɾ, LN:NT, MPP, fronting, LN, MPP, palatalization, spirantization' for González, Hebe Alicia. 2005. A grammar of Tapiete (Tupi-Guarani). University of Pittsburgh. González, Hebe Alicia. 2008. Una aproximación a la fonología del tapiete. LIAMES (8). pp. 7-43.\n",
      "\n",
      "proc_name 'LO' does not match available names 'LO:ND, LDNH:L, LN:ɾ, LN:NT, MPP, fronting, LN, MPP, palatalization, spirantization' for González, Hebe Alicia. 2005. A grammar of Tapiete (Tupi-Guarani). University of Pittsburgh. González, Hebe Alicia. 2008. Una aproximación a la fonología del tapiete. LIAMES (8). pp. 7-43.\n",
      "\n"
     ]
    }
   ],
   "source": [
    "allophones = spreadsheet.check_allophones(lang, flatnatclasses)"
   ]
  },
  {
   "cell_type": "markdown",
   "id": "ef9155ed-f475-4f67-9be2-3b88208fb386",
   "metadata": {},
   "source": [
    "Validate the `Morpheme IDs` field. The return value `morph_id_map` is a dictionary that maps each `synthesis`/`ref`document to a set of morpheme ids that can be referenced in the processes of that document."
   ]
  },
  {
   "cell_type": "code",
   "execution_count": 12,
   "id": "d3115348",
   "metadata": {
    "tags": []
   },
   "outputs": [
    {
     "name": "stderr",
     "output_type": "stream",
     "text": [
      "Expected 5-ple for morph_id. Got 4-ple '['mɨ', ' prefix', ' mɨ', ' CAUS']' for synthesis\n",
      "\n",
      "Expected 5-ple for morph_id. Got 4-ple '[' kɨɾɨ', ' root', ' ŋɡɨnɨ', ' ticklish']' for synthesis\n",
      "\n",
      "Expected 5-ple for morph_id. Got 4-ple '[' kɨɾɨ', ' root', ' ŋɡɨnɨ', ' ticklish']' for González, Hebe Alicia. 2005. A grammar of Tapiete (Tupi-Guarani). University of Pittsburgh. González, Hebe Alicia. 2008. Una aproximación a la fonología del tapiete. LIAMES (8). pp. 7-43.\n",
      "\n"
     ]
    }
   ],
   "source": [
    "morph_id_map = spreadsheet.check_morpheme_ids(lang)"
   ]
  },
  {
   "cell_type": "code",
   "execution_count": 13,
   "id": "2d3b80cc-ad36-467b-8955-2ab9c1b8b6b1",
   "metadata": {},
   "outputs": [
    {
     "data": {
      "text/plain": [
       "{'synthesis': ['mɨ',\n",
       "  ' kɨdʒe',\n",
       "  ' kʷaɾu',\n",
       "  ' kɨɾɨ',\n",
       "  ' kaɾu',\n",
       "  ' kʷeɾa',\n",
       "  ' kɨʔa',\n",
       "  ' kuʔi',\n",
       "  ' tʃe.sleep',\n",
       "  ' tʃe.enter',\n",
       "  ' soso'],\n",
       " 'González, Hebe Alicia. 2005. A grammar of Tapiete (Tupi-Guarani). University of Pittsburgh. González, Hebe Alicia. 2008. Una aproximación a la fonología del tapiete. LIAMES (8). pp. 7-43.': ['mbɨ',\n",
       "  ' kɨdʒe',\n",
       "  ' kʷaɾu',\n",
       "  ' kɨɾɨ',\n",
       "  ' kaɾu',\n",
       "  ' kʷeɾa',\n",
       "  ' kɨʔa',\n",
       "  ' kuʔi',\n",
       "  ' tʃe.sleep',\n",
       "  ' tʃe.enter',\n",
       "  ' soso']}"
      ]
     },
     "execution_count": 13,
     "metadata": {},
     "output_type": "execute_result"
    }
   ],
   "source": [
    "morph_id_map"
   ]
  },
  {
   "cell_type": "markdown",
   "id": "54197d2e-fa92-4a1e-a5fc-a30df7d830d3",
   "metadata": {},
   "source": [
    "Check the processes of the language."
   ]
  },
  {
   "cell_type": "code",
   "execution_count": 14,
   "id": "2c5e9456",
   "metadata": {
    "tags": []
   },
   "outputs": [
    {
     "name": "stderr",
     "output_type": "stream",
     "text": [
      "opacities value 'Nothing' (b'Nothing') not in Natural Classes/Segments/Morpheme IDs 'T, p, t, tʃ, k, kʷ, ʔ, Z, dʒ, S, s, ʃ, h, N, m, n, ŋ, R, ɾ, w, V, i, e, ɨ, a, u, o, Ṽ, ĩ, ẽ, ɨ̃, ã, ũ, õ, mɨ,  kɨdʒe,  kʷaɾu,  kɨɾɨ,  kaɾu,  kʷeɾa,  kɨʔa,  kuʔi,  tʃe.sleep,  tʃe.enter,  soso' for synthesis\n",
      "\n"
     ]
    }
   ],
   "source": [
    "spreadsheet.check_procs(lang, flatnatclasses, morph_id_map)"
   ]
  }
 ],
 "metadata": {
  "kernelspec": {
   "display_name": "Python 3 (ipykernel)",
   "language": "python",
   "name": "python3"
  },
  "language_info": {
   "codemirror_mode": {
    "name": "ipython",
    "version": 3
   },
   "file_extension": ".py",
   "mimetype": "text/x-python",
   "name": "python",
   "nbconvert_exporter": "python",
   "pygments_lexer": "ipython3",
   "version": "3.9.7"
  }
 },
 "nbformat": 4,
 "nbformat_minor": 5
}
