{
 "cells": [
  {
   "cell_type": "markdown",
   "id": "7dc8af40-3a13-41e1-9404-a8ce57e26bbe",
   "metadata": {
    "tags": []
   },
   "source": [
    "## Parse SAPhon inventory spreadsheets to look for errors\n",
    "\n",
    "Use this notebook to process a `.tsv` file downloaded from the SAPhon [Tupian Nasal Typology Input](https://docs.google.com/spreadsheets/d/1dvXFvLIV4y84CglgjAl-ZVb09IuGazs1SzFO_UJpmnI/edit#gid=1164878023) spreadsheet. Warning messages are emitted for spreadsheet values that do not validate. Make corrections in the spreadsheet, then download a new `.tsv` file and try again.\n",
    "\n",
    "To run the cells in this notebook, click on the cell to execute, then on the `Run` button or press `Ctrl`+`Enter` on the keyboard. Execute cells in order from top to bottom."
   ]
  },
  {
   "cell_type": "markdown",
   "id": "d4c682cb-d683-49f9-bd5c-9d9eb47b63f5",
   "metadata": {},
   "source": [
    "## Getting started\n",
    "\n",
    "When you are ready to validate data from the [input spreadsheet](https://docs.google.com/spreadsheets/d/1dvXFvLIV4y84CglgjAl-ZVb09IuGazs1SzFO_UJpmnI/edit#gid=1164878023) for a language:\n",
    "\n",
    "1. Select the tab for the language you want to check by setting the `idx` variable below.\n",
    "1. Run the following cells to perform the validation tests."
   ]
  },
  {
   "cell_type": "code",
   "execution_count": null,
   "id": "d924e360",
   "metadata": {},
   "outputs": [],
   "source": [
    "import spreadsheet\n",
    "import requests\n",
    "import pandas as pd\n",
    "from pathlib import Path\n",
    "cachedir = Path.home() / 'Downloads'"
   ]
  },
  {
   "cell_type": "markdown",
   "id": "7169a216",
   "metadata": {},
   "source": [
    "## Get Tupian input spreadsheet lang tabs\n",
    "\n",
    "Collect the language tabs from the input spreadsheet into a dataframe, one row per lang tab."
   ]
  },
  {
   "cell_type": "code",
   "execution_count": null,
   "id": "0567c4c7",
   "metadata": {},
   "outputs": [],
   "source": [
    "ssdf = pd.DataFrame.from_records(list(spreadsheet.langsheets.values()))\n",
    "ssdf['tabname'] = list(spreadsheet.langsheets.keys())\n",
    "ssdf['yaml'] = ssdf['short'] + '.yaml'\n",
    "assert(~ssdf['gid'].duplicated().any())\n",
    "assert(~ssdf['tabname'].duplicated().any())\n",
    "ssdf"
   ]
  },
  {
   "cell_type": "markdown",
   "id": "c3cf3fb1-e18c-4b69-ad46-bb4db3d55f25",
   "metadata": {},
   "source": [
    "## Read a language file\n",
    "\n",
    "Choose a language tab index number <= `66`. The next cell reads the file into a dictionary named `lang`. The dictionary contains the content of the `synthesis` and `ref` documents."
   ]
  },
  {
   "cell_type": "code",
   "execution_count": null,
   "id": "92365712",
   "metadata": {},
   "outputs": [],
   "source": [
    "idx = 6\n",
    "row = ssdf[ssdf['include']].iloc[idx]\n",
    "r = requests.get(f\"{spreadsheet.puburl}/pub?gid={row['gid']}&single=true&output=tsv\")\n",
    "r.encoding = 'utf-8'\n",
    "cachedtsv = cachedir / f\"{row['short']}.tsv\"\n",
    "with open(cachedtsv, 'w', encoding='utf-8') as out:\n",
    "    out.write(r.text)\n",
    "    print(f'Wrote lang idx {idx} to {cachedtsv}')\n",
    "lang = spreadsheet.read_lang(cachedtsv)"
   ]
  },
  {
   "cell_type": "markdown",
   "id": "5bf99477-26d9-4e07-8eab-65f6f31d4722",
   "metadata": {},
   "source": [
    "Check the `Natural Classes`/`Segments` fields. The return value `natclasses` is a dictionary that maps each `synthesis`/`ref`document to its structured natural class data that can be referenced in the processes of that document. The `flatnatclasses` variable is a dictionary that contains a simple list of all the symbols used for natural class data for each document."
   ]
  },
  {
   "cell_type": "code",
   "execution_count": null,
   "id": "5f574da6-dd79-4b0c-a979-57271a7674e8",
   "metadata": {},
   "outputs": [],
   "source": [
    "natclasses, flatnatclasses, catsymb = spreadsheet.check_natclasses(lang)"
   ]
  },
  {
   "cell_type": "markdown",
   "id": "f282a18a-0ccb-425c-a9b5-2ff8933bac90",
   "metadata": {},
   "source": [
    "Check the `allophones` field for errors. The target phone for each allophone must match one of the natural class symbols."
   ]
  },
  {
   "cell_type": "code",
   "execution_count": null,
   "id": "78da572b",
   "metadata": {
    "tags": []
   },
   "outputs": [],
   "source": [
    "allophones, alloprocs = spreadsheet.check_allophones(lang, flatnatclasses)"
   ]
  },
  {
   "cell_type": "markdown",
   "id": "ef9155ed-f475-4f67-9be2-3b88208fb386",
   "metadata": {},
   "source": [
    "Validate the `Morpheme IDs` field. The return value `morph_id_map` is a dictionary that maps each `synthesis`/`ref`document to a set of morpheme ids that can be referenced in the processes of that document."
   ]
  },
  {
   "cell_type": "code",
   "execution_count": null,
   "id": "d3115348",
   "metadata": {
    "tags": []
   },
   "outputs": [],
   "source": [
    "morph_id_map = spreadsheet.check_morpheme_ids(lang)"
   ]
  },
  {
   "cell_type": "markdown",
   "id": "54197d2e-fa92-4a1e-a5fc-a30df7d830d3",
   "metadata": {},
   "source": [
    "Check the processes of the language."
   ]
  },
  {
   "cell_type": "code",
   "execution_count": null,
   "id": "2c5e9456",
   "metadata": {
    "tags": []
   },
   "outputs": [],
   "source": [
    "spreadsheet.check_procs(lang, flatnatclasses, morph_id_map, catsymb, alloprocs)"
   ]
  }
 ],
 "metadata": {
  "kernelspec": {
   "display_name": "Python 3 (ipykernel)",
   "language": "python",
   "name": "python3"
  },
  "language_info": {
   "codemirror_mode": {
    "name": "ipython",
    "version": 3
   },
   "file_extension": ".py",
   "mimetype": "text/x-python",
   "name": "python",
   "nbconvert_exporter": "python",
   "pygments_lexer": "ipython3",
   "version": "3.9.7"
  }
 },
 "nbformat": 4,
 "nbformat_minor": 5
}
